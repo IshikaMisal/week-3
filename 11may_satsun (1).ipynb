{
  "nbformat": 4,
  "nbformat_minor": 0,
  "metadata": {
    "colab": {
      "name": "11may_satsun.ipynb",
      "version": "0.3.2",
      "provenance": []
    },
    "kernelspec": {
      "name": "python3",
      "display_name": "Python 3"
    }
  },
  "cells": [
    {
      "cell_type": "code",
      "metadata": {
        "id": "paaIFxhriQPx",
        "colab_type": "code",
        "colab": {}
      },
      "source": [
        "import random\n",
        "y=random.randint(1,100)\n",
        "c=(\"ishika\")\n",
        "b=input(\"enter ur name:\")\n",
        "for q in range(0,3):\n",
        "    a = int(input(\"guess the number\"))\n",
        "    if a == y or b==c:\n",
        "        print(\"congrats!\")\n",
        "    else:\n",
        "        print(\"try again\")\n",
        "\n",
        "print(\"The original number was {}\".format(y))\n",
        "\n"
      ],
      "execution_count": 0,
      "outputs": []
    },
    {
      "cell_type": "code",
      "metadata": {
        "id": "DAgNiMOJibdZ",
        "colab_type": "code",
        "colab": {}
      },
      "source": [
        "def n_m(x):\n",
        "    y= input(\"enter initial:\")\n",
        "    z= 3\n",
        "    z=x[0:z]+ y\n",
        "    print(z)\n",
        "\n",
        "n_m(\"ishika\")"
      ],
      "execution_count": 0,
      "outputs": []
    },
    {
      "cell_type": "code",
      "metadata": {
        "id": "gWmunT2BieWm",
        "colab_type": "code",
        "colab": {}
      },
      "source": [
        "def f_c( ):\n",
        "    y=input(\"flower name:\").capitalize()\n",
        "    if (y==\"Rose\"):\n",
        "        print(\"red\")\n",
        "    elif (y==\"Lotus\"):\n",
        "        print(\"pink\")\n",
        "    elif (y==\"sunflower\"):\n",
        "        print(\"yellow\")\n",
        "    else:\n",
        "        print"
      ],
      "execution_count": 0,
      "outputs": []
    },
    {
      "cell_type": "code",
      "metadata": {
        "id": "JPEnfA2dixfD",
        "colab_type": "code",
        "colab": {}
      },
      "source": [
        "def  sum (a , b):\n",
        "  c = a + b\n",
        "  # c = a - b\n",
        "  # c = a * b\n",
        "  # c = a / b\n",
        "  return c\n",
        "sum (10 , 20)\n",
        "print (sum(10 , 20)) "
      ],
      "execution_count": 0,
      "outputs": []
    },
    {
      "cell_type": "code",
      "metadata": {
        "id": "_qbD-UEQjId4",
        "colab_type": "code",
        "colab": {}
      },
      "source": [
        "x = \"jan\"\n",
        "y = x.capitalize()\n",
        "#y = x.upper()\n",
        "#y = x.lower()\n",
        "print(y)\n"
      ],
      "execution_count": 0,
      "outputs": []
    },
    {
      "cell_type": "code",
      "metadata": {
        "id": "dn36Kf2NjsDy",
        "colab_type": "code",
        "colab": {}
      },
      "source": [
        "a = input (\"Enter ur month:\").capitalize()\n",
        "def m_d(a):\n",
        "  if  a == \"jan\" or a ==\"march\" or a ==\"may\" or a ==\"june\" or a==\"aug\" or a==\"oct\" or a== \"dec\":\n",
        "    print(\"your selected {} month has 31 days\".format(a))\n",
        "  elif a ==\"april\" or a==\"june\" or a==\"sep\" or a==\"nov\":\n",
        "    print(\"your selected {} month has 30 days\".format(a))\n",
        "  elif a==\"feb\":\n",
        "    print(\"your selected {} month has 28 days\".format(a))\n",
        "  else:\n",
        "    print(\"no such month\")\n",
        "\n",
        "m_d(a)"
      ],
      "execution_count": 0,
      "outputs": []
    },
    {
      "cell_type": "code",
      "metadata": {
        "id": "wP7BtL7IdNxx",
        "colab_type": "code",
        "colab": {}
      },
      "source": [
        "List = [1,2,3,4]\n",
        "def check (List):\n",
        "  for x in List:\n",
        "    print(x)\n",
        "    \n",
        "check (List)"
      ],
      "execution_count": 0,
      "outputs": []
    }
  ]
}